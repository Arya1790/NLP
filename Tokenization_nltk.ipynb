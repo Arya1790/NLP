{
  "nbformat": 4,
  "nbformat_minor": 0,
  "metadata": {
    "colab": {
      "provenance": [],
      "authorship_tag": "ABX9TyOsCGTwkNnHWkooK3aeJbJm",
      "include_colab_link": true
    },
    "kernelspec": {
      "name": "python3",
      "display_name": "Python 3"
    },
    "language_info": {
      "name": "python"
    }
  },
  "cells": [
    {
      "cell_type": "markdown",
      "metadata": {
        "id": "view-in-github",
        "colab_type": "text"
      },
      "source": [
        "<a href=\"https://colab.research.google.com/github/Arya1790/NLP/blob/main/Tokenization_nltk.ipynb\" target=\"_parent\"><img src=\"https://colab.research.google.com/assets/colab-badge.svg\" alt=\"Open In Colab\"/></a>"
      ]
    },
    {
      "cell_type": "code",
      "execution_count": 1,
      "metadata": {
        "colab": {
          "base_uri": "https://localhost:8080/"
        },
        "id": "NK3rFgVZO_f-",
        "outputId": "9316bb05-f556-4795-8c1d-1540f8d4f6fb"
      },
      "outputs": [
        {
          "output_type": "stream",
          "name": "stdout",
          "text": [
            "Requirement already satisfied: nltk in /usr/local/lib/python3.10/dist-packages (3.9.1)\n",
            "Requirement already satisfied: click in /usr/local/lib/python3.10/dist-packages (from nltk) (8.1.7)\n",
            "Requirement already satisfied: joblib in /usr/local/lib/python3.10/dist-packages (from nltk) (1.4.2)\n",
            "Requirement already satisfied: regex>=2021.8.3 in /usr/local/lib/python3.10/dist-packages (from nltk) (2024.11.6)\n",
            "Requirement already satisfied: tqdm in /usr/local/lib/python3.10/dist-packages (from nltk) (4.67.1)\n"
          ]
        }
      ],
      "source": [
        "!pip install nltk"
      ]
    },
    {
      "cell_type": "code",
      "source": [
        "# paragraph\n",
        "corpus = \"\"\"Generative artificial intelligence (GenAI) is a type of AI that can create new content, such as text, images, videos, music, and audio.\n",
        "It uses machine learning techniques to learn from existing data and produce new data instances.\"\"\"\n"
      ],
      "metadata": {
        "id": "KoH89hUTPNuc"
      },
      "execution_count": 2,
      "outputs": []
    },
    {
      "cell_type": "code",
      "source": [
        "# convert paragraph to sentenses\n",
        "import nltk\n",
        "nltk.download('punkt_tab')\n",
        "from nltk.tokenize import sent_tokenize\n",
        "from nltk.tokenize import word_tokenize"
      ],
      "metadata": {
        "colab": {
          "base_uri": "https://localhost:8080/"
        },
        "id": "Z74vSOzHPvBr",
        "outputId": "cfd4efff-1856-4b23-9cc3-394437ee0a87"
      },
      "execution_count": 7,
      "outputs": [
        {
          "output_type": "stream",
          "name": "stderr",
          "text": [
            "[nltk_data] Downloading package punkt_tab to /root/nltk_data...\n",
            "[nltk_data]   Package punkt_tab is already up-to-date!\n"
          ]
        }
      ]
    },
    {
      "cell_type": "code",
      "source": [
        "sentences = sent_tokenize(corpus)\n",
        "for i in sentences:\n",
        "  print(i)"
      ],
      "metadata": {
        "colab": {
          "base_uri": "https://localhost:8080/"
        },
        "id": "KsaCT5uFQyvZ",
        "outputId": "493ccf68-0f73-46dd-bbcf-73fde957bf87"
      },
      "execution_count": 9,
      "outputs": [
        {
          "output_type": "stream",
          "name": "stdout",
          "text": [
            "Generative artificial intelligence (GenAI) is a type of AI that can create new content, such as text, images, videos, music, and audio.\n",
            "It uses machine learning techniques to learn from existing data and produce new data instances.\n"
          ]
        }
      ]
    },
    {
      "cell_type": "code",
      "source": [
        "word_tokenize(corpus)"
      ],
      "metadata": {
        "colab": {
          "base_uri": "https://localhost:8080/"
        },
        "id": "3KA29PPRQ5tR",
        "outputId": "d0385332-2042-450a-e07d-a7b1c4658264"
      },
      "execution_count": 10,
      "outputs": [
        {
          "output_type": "execute_result",
          "data": {
            "text/plain": [
              "['Generative',\n",
              " 'artificial',\n",
              " 'intelligence',\n",
              " '(',\n",
              " 'GenAI',\n",
              " ')',\n",
              " 'is',\n",
              " 'a',\n",
              " 'type',\n",
              " 'of',\n",
              " 'AI',\n",
              " 'that',\n",
              " 'can',\n",
              " 'create',\n",
              " 'new',\n",
              " 'content',\n",
              " ',',\n",
              " 'such',\n",
              " 'as',\n",
              " 'text',\n",
              " ',',\n",
              " 'images',\n",
              " ',',\n",
              " 'videos',\n",
              " ',',\n",
              " 'music',\n",
              " ',',\n",
              " 'and',\n",
              " 'audio',\n",
              " '.',\n",
              " 'It',\n",
              " 'uses',\n",
              " 'machine',\n",
              " 'learning',\n",
              " 'techniques',\n",
              " 'to',\n",
              " 'learn',\n",
              " 'from',\n",
              " 'existing',\n",
              " 'data',\n",
              " 'and',\n",
              " 'produce',\n",
              " 'new',\n",
              " 'data',\n",
              " 'instances',\n",
              " '.']"
            ]
          },
          "metadata": {},
          "execution_count": 10
        }
      ]
    },
    {
      "cell_type": "code",
      "source": [
        "# punctuation is also included\n",
        "from nltk.tokenize import wordpunct_tokenize\n",
        "wordpunct_tokenize(corpus)"
      ],
      "metadata": {
        "colab": {
          "base_uri": "https://localhost:8080/"
        },
        "id": "YEuOGDZnQ5vz",
        "outputId": "7d3f2200-9bf2-4ed4-eb22-b4e16d4af7b2"
      },
      "execution_count": 11,
      "outputs": [
        {
          "output_type": "execute_result",
          "data": {
            "text/plain": [
              "['Generative',\n",
              " 'artificial',\n",
              " 'intelligence',\n",
              " '(',\n",
              " 'GenAI',\n",
              " ')',\n",
              " 'is',\n",
              " 'a',\n",
              " 'type',\n",
              " 'of',\n",
              " 'AI',\n",
              " 'that',\n",
              " 'can',\n",
              " 'create',\n",
              " 'new',\n",
              " 'content',\n",
              " ',',\n",
              " 'such',\n",
              " 'as',\n",
              " 'text',\n",
              " ',',\n",
              " 'images',\n",
              " ',',\n",
              " 'videos',\n",
              " ',',\n",
              " 'music',\n",
              " ',',\n",
              " 'and',\n",
              " 'audio',\n",
              " '.',\n",
              " 'It',\n",
              " 'uses',\n",
              " 'machine',\n",
              " 'learning',\n",
              " 'techniques',\n",
              " 'to',\n",
              " 'learn',\n",
              " 'from',\n",
              " 'existing',\n",
              " 'data',\n",
              " 'and',\n",
              " 'produce',\n",
              " 'new',\n",
              " 'data',\n",
              " 'instances',\n",
              " '.']"
            ]
          },
          "metadata": {},
          "execution_count": 11
        }
      ]
    },
    {
      "cell_type": "code",
      "source": [
        "from nltk.tokenize import TreebankWordTokenizer\n",
        "tokenizer = TreebankWordTokenizer()\n",
        "tokenizer.tokenize(corpus)"
      ],
      "metadata": {
        "colab": {
          "base_uri": "https://localhost:8080/"
        },
        "id": "lOAGIOHGQ5yX",
        "outputId": "605c4337-b1f7-4b1d-8ea1-b90d916fc48f"
      },
      "execution_count": 15,
      "outputs": [
        {
          "output_type": "execute_result",
          "data": {
            "text/plain": [
              "['Generative',\n",
              " 'artificial',\n",
              " 'intelligence',\n",
              " '(',\n",
              " 'GenAI',\n",
              " ')',\n",
              " 'is',\n",
              " 'a',\n",
              " 'type',\n",
              " 'of',\n",
              " 'AI',\n",
              " 'that',\n",
              " 'can',\n",
              " 'create',\n",
              " 'new',\n",
              " 'content',\n",
              " ',',\n",
              " 'such',\n",
              " 'as',\n",
              " 'text',\n",
              " ',',\n",
              " 'images',\n",
              " ',',\n",
              " 'videos',\n",
              " ',',\n",
              " 'music',\n",
              " ',',\n",
              " 'and',\n",
              " 'audio.',\n",
              " 'It',\n",
              " 'uses',\n",
              " 'machine',\n",
              " 'learning',\n",
              " 'techniques',\n",
              " 'to',\n",
              " 'learn',\n",
              " 'from',\n",
              " 'existing',\n",
              " 'data',\n",
              " 'and',\n",
              " 'produce',\n",
              " 'new',\n",
              " 'data',\n",
              " 'instances',\n",
              " '.']"
            ]
          },
          "metadata": {},
          "execution_count": 15
        }
      ]
    },
    {
      "cell_type": "code",
      "source": [],
      "metadata": {
        "id": "SkCooCmKQ50l"
      },
      "execution_count": null,
      "outputs": []
    },
    {
      "cell_type": "code",
      "source": [],
      "metadata": {
        "id": "UYYcuHgsQ54C"
      },
      "execution_count": null,
      "outputs": []
    }
  ]
}